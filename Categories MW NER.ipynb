{
 "cells": [
  {
   "cell_type": "markdown",
   "id": "f72e04ce",
   "metadata": {},
   "source": [
    "I redefine the classification model here because it is simpler and faster than importing it."
   ]
  },
  {
   "cell_type": "code",
   "execution_count": 3,
   "id": "4a52e006",
   "metadata": {},
   "outputs": [
    {
     "name": "stdout",
     "output_type": "stream",
     "text": [
      "(1919, 5)\n",
      "(44, 5)\n"
     ]
    }
   ],
   "source": [
    "import pandas as pd\n",
    "import numpy as np\n",
    "import gensim\n",
    "from gensim.parsing.preprocessing import preprocess_documents\n",
    "\n",
    "\n",
    "df_5comp_MW = pd.read_csv(r'C:\\Users\\Arnau\\Imperial College London\\FYP - Arnau Bonet\\New_training_set_allsources_postNER.csv', sep=';')\n",
    "df_5comp_MW_corpus = pd.read_csv(r'C:\\Users\\Arnau\\Imperial College London\\FYP - Arnau Bonet\\corpus_training_set.csv', sep=';')\n",
    "\n",
    "text_corpus = df_5comp_MW['Text'].values\n",
    "training_corpus = df_5comp_MW_corpus['Text'].values\n",
    "\n",
    "\n",
    "for i in list(range(0,df_5comp_MW.shape[0])):\n",
    "        text_corpus[i]=text_corpus[i][0:300]\n",
    "\n",
    "\n",
    "for i in list(range(0,df_5comp_MW_corpus.shape[0])):\n",
    "        training_corpus[i]=training_corpus[i][0:300]\n",
    "        \n",
    "\n",
    "#print(df_5comp_MW.shape)\n",
    "#print(df_5comp_MW_corpus.shape)\n",
    "\n",
    "df_5comp_MW.dropna(inplace = True)\n",
    "df_5comp_MW_corpus.dropna(inplace = True)\n",
    "\n",
    "print(df_5comp_MW.shape)\n",
    "#print(df_5comp_MW.head())\n",
    "print(df_5comp_MW_corpus.shape)\n",
    "#print(df_5comp_MW_corpus.head())"
   ]
  },
  {
   "cell_type": "code",
   "execution_count": 4,
   "id": "77a991c4",
   "metadata": {},
   "outputs": [
    {
     "name": "stdout",
     "output_type": "stream",
     "text": [
      "1430\n",
      "168\n",
      "76\n",
      "72\n",
      "61\n",
      "64\n",
      "26\n",
      "12\n",
      "10\n"
     ]
    }
   ],
   "source": [
    "df_5comp_MW_1 = df_5comp_MW.loc[df_5comp_MW['Category'] == 1]\n",
    "df_5comp_MW_2 = df_5comp_MW.loc[df_5comp_MW['Category'] == 2]\n",
    "df_5comp_MW_3 = df_5comp_MW.loc[df_5comp_MW['Category'] == 3]\n",
    "df_5comp_MW_4 = df_5comp_MW.loc[df_5comp_MW['Category'] == 4]\n",
    "df_5comp_MW_5 = df_5comp_MW.loc[df_5comp_MW['Category'] == 5]\n",
    "df_5comp_MW_6 = df_5comp_MW.loc[df_5comp_MW['Category'] == 6]\n",
    "df_5comp_MW_7 = df_5comp_MW.loc[df_5comp_MW['Category'] == 7]\n",
    "df_5comp_MW_8 = df_5comp_MW.loc[df_5comp_MW['Category'] == 8]\n",
    "df_5comp_MW_9 = df_5comp_MW.loc[df_5comp_MW['Category'] == 9]\n",
    "df_5comp_MW_10 = df_5comp_MW.loc[df_5comp_MW['Category'] == 10]\n",
    "\n",
    "df_5comp_MW_wo1 = df_5comp_MW.loc[df_5comp_MW['Category'] != 1]\n",
    "\n",
    "print(df_5comp_MW_1.shape[0])\n",
    "print(df_5comp_MW_9.shape[0])\n",
    "print(df_5comp_MW_2.shape[0])\n",
    "print(df_5comp_MW_3.shape[0])\n",
    "print(df_5comp_MW_4.shape[0])\n",
    "print(df_5comp_MW_5.shape[0])\n",
    "print(df_5comp_MW_6.shape[0])\n",
    "print(df_5comp_MW_7.shape[0])\n",
    "print(df_5comp_MW_8.shape[0])"
   ]
  },
  {
   "cell_type": "code",
   "execution_count": 5,
   "id": "54613104",
   "metadata": {},
   "outputs": [],
   "source": [
    "df_5comp_MW_1_corpus = df_5comp_MW_corpus.loc[df_5comp_MW_corpus['Category'] == 1]\n",
    "df_5comp_MW_2_corpus = df_5comp_MW_corpus.loc[df_5comp_MW_corpus['Category'] == 2]\n",
    "df_5comp_MW_3_corpus = df_5comp_MW_corpus.loc[df_5comp_MW_corpus['Category'] == 3]\n",
    "df_5comp_MW_4_corpus = df_5comp_MW_corpus.loc[df_5comp_MW_corpus['Category'] == 4]\n",
    "df_5comp_MW_5_corpus = df_5comp_MW_corpus.loc[df_5comp_MW_corpus['Category'] == 5]\n",
    "df_5comp_MW_6_corpus = df_5comp_MW_corpus.loc[df_5comp_MW_corpus['Category'] == 6]\n",
    "df_5comp_MW_7_corpus = df_5comp_MW_corpus.loc[df_5comp_MW_corpus['Category'] == 7]\n",
    "df_5comp_MW_8_corpus = df_5comp_MW_corpus.loc[df_5comp_MW_corpus['Category'] == 8]\n",
    "df_5comp_MW_9_corpus = df_5comp_MW_corpus.loc[df_5comp_MW_corpus['Category'] == 9]\n",
    "df_5comp_MW_10_corpus = df_5comp_MW_corpus.loc[df_5comp_MW_corpus['Category'] == 10]"
   ]
  },
  {
   "cell_type": "code",
   "execution_count": 6,
   "id": "6c63d905",
   "metadata": {},
   "outputs": [],
   "source": [
    "corpus_train_5comp_MW_lsi = {\n",
    "    'Category': [1, 2, 3, 4, 5, 6, 7, 8, 9, 10], #'Stock Price Update', 'Deals', 'M&A', 'Partnerships', 'Lawsuits', 'Product', 'Analyst Recommendation', 'Employement', 'Facilities', 'Award', 'Financial (earnings etc.)', 'Other'],\n",
    "    'Articles': [df_5comp_MW_1_corpus['Text'].iloc[1]+df_5comp_MW_1_corpus['Text'].iloc[2]+df_5comp_MW_1_corpus['Text'].iloc[3]+df_5comp_MW_1_corpus['Text'].iloc[4]+df_5comp_MW_1_corpus['Text'].iloc[0],\n",
    "                 df_5comp_MW_2_corpus['Text'].iloc[1]+df_5comp_MW_2_corpus['Text'].iloc[2]+df_5comp_MW_2_corpus['Text'].iloc[3]+df_5comp_MW_2_corpus['Text'].iloc[4]+df_5comp_MW_2_corpus['Text'].iloc[0],\n",
    "                 df_5comp_MW_3_corpus['Text'].iloc[1]+df_5comp_MW_3_corpus['Text'].iloc[2]+df_5comp_MW_3_corpus['Text'].iloc[3]+df_5comp_MW_3_corpus['Text'].iloc[4]+df_5comp_MW_3_corpus['Text'].iloc[0], \n",
    "                 df_5comp_MW_4_corpus['Text'].iloc[1]+df_5comp_MW_4_corpus['Text'].iloc[2]+df_5comp_MW_4_corpus['Text'].iloc[3]+df_5comp_MW_4_corpus['Text'].iloc[4]+df_5comp_MW_4_corpus['Text'].iloc[0], \n",
    "                 df_5comp_MW_5_corpus['Text'].iloc[1]+df_5comp_MW_5_corpus['Text'].iloc[2]+df_5comp_MW_5_corpus['Text'].iloc[3]+df_5comp_MW_5_corpus['Text'].iloc[4]+df_5comp_MW_5_corpus['Text'].iloc[0], \n",
    "                 df_5comp_MW_6_corpus['Text'].iloc[1]+df_5comp_MW_6_corpus['Text'].iloc[2]+df_5comp_MW_6_corpus['Text'].iloc[3]+df_5comp_MW_6_corpus['Text'].iloc[4]+df_5comp_MW_6_corpus['Text'].iloc[0], \n",
    "                 df_5comp_MW_7_corpus['Text'].iloc[1]+df_5comp_MW_7_corpus['Text'].iloc[2]+df_5comp_MW_7_corpus['Text'].iloc[3]+df_5comp_MW_7_corpus['Text'].iloc[4]+df_5comp_MW_7_corpus['Text'].iloc[0],\n",
    "                 df_5comp_MW_8_corpus['Text'].iloc[1]+df_5comp_MW_8_corpus['Text'].iloc[2]+df_5comp_MW_8_corpus['Text'].iloc[3]+df_5comp_MW_8_corpus['Text'].iloc[0],\n",
    "                 df_5comp_MW_9_corpus['Text'].iloc[1]+df_5comp_MW_9_corpus['Text'].iloc[2]+df_5comp_MW_9_corpus['Text'].iloc[3]+df_5comp_MW_9_corpus['Text'].iloc[4]+df_5comp_MW_9_corpus['Text'].iloc[0],\n",
    "                 \"\"\n",
    "                ]\n",
    "}\n",
    "\n",
    "corpus_df_5comp_MW_lsi = pd.DataFrame(corpus_train_5comp_MW_lsi, columns= ['Category','Articles'])\n",
    "\n",
    "#print(corpus_df_5comp_MW_lsi)"
   ]
  },
  {
   "cell_type": "code",
   "execution_count": 7,
   "id": "086eb014",
   "metadata": {},
   "outputs": [],
   "source": [
    "text_corpus_5comp_MW_lsi = corpus_df_5comp_MW_lsi['Articles'].values"
   ]
  },
  {
   "cell_type": "code",
   "execution_count": 8,
   "id": "27184f71",
   "metadata": {},
   "outputs": [],
   "source": [
    "processed_corpus_5comp_MW_lsi = preprocess_documents(text_corpus_5comp_MW_lsi)\n",
    "dictionary_5comp_MW_lsi = gensim.corpora.Dictionary(processed_corpus_5comp_MW_lsi)\n",
    "bow_corpus_5comp_MW_lsi = [dictionary_5comp_MW_lsi.doc2bow(text) for text in processed_corpus_5comp_MW_lsi]"
   ]
  },
  {
   "cell_type": "code",
   "execution_count": 9,
   "id": "ff448cae",
   "metadata": {},
   "outputs": [],
   "source": [
    "tfidf_5comp_MW_lsi = gensim.models.TfidfModel(bow_corpus_5comp_MW_lsi, smartirs=\"npu\")\n",
    "corpus_tfidf_5comp_MW_lsi = tfidf_5comp_MW_lsi[bow_corpus_5comp_MW_lsi]"
   ]
  },
  {
   "cell_type": "code",
   "execution_count": 10,
   "id": "66dce07e",
   "metadata": {},
   "outputs": [],
   "source": [
    "lsi_5comp_MW = gensim.models.LsiModel(corpus_tfidf_5comp_MW_lsi, num_topics=10)\n",
    "index_5comp_MW_lsi = gensim.similarities.MatrixSimilarity(lsi_5comp_MW[corpus_tfidf_5comp_MW_lsi])"
   ]
  },
  {
   "cell_type": "code",
   "execution_count": 11,
   "id": "24e7390a",
   "metadata": {},
   "outputs": [
    {
     "name": "stdout",
     "output_type": "stream",
     "text": [
      "4 : 0.998617\n",
      "6 : 1.8626451e-09\n",
      "1 : 6.9849193e-10\n",
      "2 : 0.0\n",
      "5 : 0.0\n",
      "7 : 0.0\n",
      "10 : 0.0\n",
      "8 : -1.8626451e-09\n",
      "9 : -3.7252903e-09\n",
      "3 : -7.450581e-09\n"
     ]
    }
   ],
   "source": [
    "#print(df_5comp_MW_2[\"Text\"].iloc[6])\n",
    "new_doc_5comp_MW_lsi=\"any sentence could go here to test classification\"\n",
    "\n",
    "new_doc_5comp_MW_lsi = gensim.parsing.preprocessing.preprocess_string(new_doc_5comp_MW_lsi)\n",
    "new_vec_5comp_MW_lsi = dictionary_5comp_MW_lsi.doc2bow(new_doc_5comp_MW_lsi)\n",
    "vec_bow_tfidf_5comp_MW_lsi = tfidf_5comp_MW_lsi[new_vec_5comp_MW_lsi]\n",
    "vec_5comp_MW_lsi = lsi_5comp_MW[vec_bow_tfidf_5comp_MW_lsi]\n",
    "sims_5comp_MW_lsi = index_5comp_MW_lsi[vec_5comp_MW_lsi]\n",
    "for s in sorted(enumerate(sims_5comp_MW_lsi), key=lambda item: -item[1])[:10]:\n",
    "    print(f\"{corpus_df_5comp_MW_lsi['Category'].iloc[s[0]]} : {str(s[1])}\")"
   ]
  },
  {
   "cell_type": "markdown",
   "id": "13e7282f",
   "metadata": {},
   "source": [
    "CLASSIFICATION INTO CATEGORIES OF ALL THE ARTICLES"
   ]
  },
  {
   "cell_type": "code",
   "execution_count": 12,
   "id": "79cd829d",
   "metadata": {},
   "outputs": [],
   "source": [
    "def combineHeadlineText(row):\n",
    "    if isinstance(row[\"Headline\"], str):\n",
    "        return row[\"Headline\"] + \". \" + row[\"Text\"]\n",
    "    else:\n",
    "        return row[\"Text\"]"
   ]
  },
  {
   "cell_type": "code",
   "execution_count": 15,
   "id": "75215cdc",
   "metadata": {},
   "outputs": [],
   "source": [
    "import glob\n",
    "from   os import path\n",
    "\n",
    "lst_files = [] \n",
    "\n",
    "Path = \"*.csv\"\n",
    "count = 0\n",
    "\n",
    "for fname in glob.glob(Path):\n",
    "    lst_files.append(fname)\n",
    "    \n",
    "\n",
    "lst_files = sorted(lst_files)\n",
    "\n",
    "for file in lst_files:\n",
    "    #print(file)\n",
    "    count=count+1\n",
    "    #print(count)\n",
    "    df = pd.read_csv(file)\n",
    "    #print(df.head())\n",
    "    if df.shape[0] != 0:\n",
    "        df = df.drop(['Unnamed: 0'], axis = 1)\n",
    "        df = df.drop_duplicates(['Date','Headline'],keep= 'last')\n",
    "        df['Text'] = df['Text'].astype(str)  \n",
    "        df['Text'] = df.apply(lambda row: combineHeadlineText(row), axis=1)\n",
    "        df['Date'] = df['Date'].str.replace(r'Published: ', ' ')\n",
    "        df['Date'] = df['Date'].str.replace(r'First', ' ')\n",
    "        df['Date'] = pd.to_datetime(df['Date'].str[-31:], utc=True).dt.date           #change date format to YYYY-MM-DD\n",
    "        df = df.sort_values(by = ['Date'], ascending = True)\n",
    "\n",
    "        df['Category']=[0] * df.shape[0]\n",
    "\n",
    "        #print(df.head())\n",
    "        for index, row in df.iterrows():\n",
    "            new_doc_5comp_MW_lsi = row['Text'][0:300]\n",
    "\n",
    "            new_doc_5comp_MW_lsi = gensim.parsing.preprocessing.preprocess_string(new_doc_5comp_MW_lsi)\n",
    "            new_vec_5comp_MW_lsi = dictionary_5comp_MW_lsi.doc2bow(new_doc_5comp_MW_lsi)\n",
    "            vec_bow_tfidf_5comp_MW_lsi = tfidf_5comp_MW_lsi[new_vec_5comp_MW_lsi]\n",
    "            vec_5comp_MW_lsi = lsi_5comp_MW[vec_bow_tfidf_5comp_MW_lsi]\n",
    "            sims_5comp_MW_lsi = index_5comp_MW_lsi[vec_5comp_MW_lsi]\n",
    "\n",
    "            for s in sorted(enumerate(sims_5comp_MW_lsi), key=lambda item: -item[1])[:1]:\n",
    "                df.at[index,'Category']=corpus_df_5comp_MW_lsi['Category'].iloc[s[0]]\n",
    "                #print(row['Category'])\n",
    "        #print(df.head())        \n",
    "        df_1 = df.loc[df['Category'] == 1]\n",
    "        df_2 = df.loc[df['Category'] == 2]\n",
    "        df_3 = df.loc[df['Category'] == 3]\n",
    "        df_4 = df.loc[df['Category'] == 4]\n",
    "        df_5 = df.loc[df['Category'] == 5]\n",
    "        df_6 = df.loc[df['Category'] == 6]\n",
    "        df_7 = df.loc[df['Category'] == 7]\n",
    "        df_8 = df.loc[df['Category'] == 8]\n",
    "        df_9 = df.loc[df['Category'] == 9]\n",
    "        df_10 = df.loc[df['Category'] == 10]\n",
    "\n",
    "        company_name = file[0:len(file)-4].strip()\n",
    "\n",
    "        df_1.to_csv(r'C:\\Users\\Arnau\\Imperial College London\\FYP - Arnau Bonet\\Output Classification Post NER\\MW classification NER\\1_Stock Price Update/{0}.csv'.format(company_name))\n",
    "        df_2.to_csv(r'C:\\Users\\Arnau\\Imperial College London\\FYP - Arnau Bonet\\Output Classification Post NER\\MW classification NER\\2_Deals/{0}.csv'.format(company_name))\n",
    "        df_3.to_csv(r'C:\\Users\\Arnau\\Imperial College London\\FYP - Arnau Bonet\\Output Classification Post NER\\MW classification NER\\3_Legal/{0}.csv'.format(company_name))\n",
    "        df_4.to_csv(r'C:\\Users\\Arnau\\Imperial College London\\FYP - Arnau Bonet\\Output Classification Post NER\\MW classification NER\\4_Product/{0}.csv'.format(company_name))\n",
    "        df_5.to_csv(r'C:\\Users\\Arnau\\Imperial College London\\FYP - Arnau Bonet\\Output Classification Post NER\\MW classification NER\\5_Analyst Recommendation/{0}.csv'.format(company_name))\n",
    "        df_6.to_csv(r'C:\\Users\\Arnau\\Imperial College London\\FYP - Arnau Bonet\\Output Classification Post NER\\MW classification NER\\6_Employment/{0}.csv'.format(company_name))\n",
    "        df_7.to_csv(r'C:\\Users\\Arnau\\Imperial College London\\FYP - Arnau Bonet\\Output Classification Post NER\\MW classification NER\\7_Facilities/{0}.csv'.format(company_name))\n",
    "        df_8.to_csv(r'C:\\Users\\Arnau\\Imperial College London\\FYP - Arnau Bonet\\Output Classification Post NER\\MW classification NER\\8_Award/{0}.csv'.format(company_name))\n",
    "        df_9.to_csv(r'C:\\Users\\Arnau\\Imperial College London\\FYP - Arnau Bonet\\Output Classification Post NER\\MW classification NER\\9_Financial/{0}.csv'.format(company_name))"
   ]
  },
  {
   "cell_type": "code",
   "execution_count": null,
   "id": "28934a36",
   "metadata": {},
   "outputs": [],
   "source": []
  }
 ],
 "metadata": {
  "kernelspec": {
   "display_name": "Python 3",
   "language": "python",
   "name": "python3"
  },
  "language_info": {
   "codemirror_mode": {
    "name": "ipython",
    "version": 3
   },
   "file_extension": ".py",
   "mimetype": "text/x-python",
   "name": "python",
   "nbconvert_exporter": "python",
   "pygments_lexer": "ipython3",
   "version": "3.8.8"
  }
 },
 "nbformat": 4,
 "nbformat_minor": 5
}
