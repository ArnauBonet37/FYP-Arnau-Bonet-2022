{
 "cells": [
  {
   "cell_type": "code",
   "execution_count": 1,
   "id": "4a52e006",
   "metadata": {},
   "outputs": [
    {
     "name": "stderr",
     "output_type": "stream",
     "text": [
      "C:\\Users\\Arnau\\anaconda3\\lib\\site-packages\\gensim\\similarities\\__init__.py:15: UserWarning: The gensim.similarities.levenshtein submodule is disabled, because the optional Levenshtein package <https://pypi.org/project/python-Levenshtein/> is unavailable. Install Levenhstein (e.g. `pip install python-Levenshtein`) to suppress this warning.\n",
      "  warnings.warn(msg)\n"
     ]
    },
    {
     "name": "stdout",
     "output_type": "stream",
     "text": [
      "(44, 5)\n",
      "(1919, 5)\n",
      "(44, 5)\n"
     ]
    }
   ],
   "source": [
    "import pandas as pd\n",
    "import numpy as np\n",
    "import gensim\n",
    "import seaborn as sns\n",
    "import matplotlib.pyplot as plt\n",
    "from gensim.parsing.preprocessing import preprocess_documents\n",
    "\n",
    "\n",
    "df_5comp_MW = pd.read_csv('New_training_set_allsources_postNER.csv', sep=';')\n",
    "df_5comp_MW_corpus = pd.read_csv('corpus_training_set.csv', sep=';')\n",
    "\n",
    "text_corpus = df_5comp_MW['Text'].values\n",
    "training_corpus = df_5comp_MW_corpus['Text'].values\n",
    "\n",
    "\n",
    "for i in list(range(0,df_5comp_MW.shape[0])):\n",
    "        text_corpus[i]=text_corpus[i][0:300]\n",
    "\n",
    "\n",
    "for i in list(range(0,df_5comp_MW_corpus.shape[0])):\n",
    "        training_corpus[i]=training_corpus[i][0:300]\n",
    "        \n",
    "\n",
    "#print(df_5comp_MW.shape)\n",
    "print(df_5comp_MW_corpus.shape)\n",
    "\n",
    "df_5comp_MW.dropna(inplace = True)\n",
    "df_5comp_MW_corpus.dropna(inplace = True)\n",
    "\n",
    "print(df_5comp_MW.shape)\n",
    "#print(df_5comp_MW.head())\n",
    "print(df_5comp_MW_corpus.shape)\n",
    "#print(df_5comp_MW_corpus.head())"
   ]
  },
  {
   "cell_type": "markdown",
   "id": "f72e04ce",
   "metadata": {},
   "source": [
    "Category 1: Stock Price Update\n",
    "\n",
    "Category 2: Deals Partnerships and M&A\n",
    "\n",
    "Category 3: Legal\n",
    "\n",
    "Category 4: Product\n",
    "\n",
    "Category 5: Analyst Recommendation\n",
    "\n",
    "Category 6: Employment\n",
    "\n",
    "Category 7: Facilities\n",
    "\n",
    "Category 8: Award\n",
    "\n",
    "Category 9: Financial\n",
    "\n",
    "Category 10: Other\n"
   ]
  },
  {
   "cell_type": "code",
   "execution_count": 2,
   "id": "77a991c4",
   "metadata": {},
   "outputs": [
    {
     "name": "stdout",
     "output_type": "stream",
     "text": [
      "1430\n",
      "168\n",
      "76\n",
      "72\n",
      "61\n",
      "64\n",
      "26\n",
      "12\n",
      "10\n"
     ]
    }
   ],
   "source": [
    "df_5comp_MW_1 = df_5comp_MW.loc[df_5comp_MW['Category'] == 1]\n",
    "df_5comp_MW_2 = df_5comp_MW.loc[df_5comp_MW['Category'] == 2]\n",
    "df_5comp_MW_3 = df_5comp_MW.loc[df_5comp_MW['Category'] == 3]\n",
    "df_5comp_MW_4 = df_5comp_MW.loc[df_5comp_MW['Category'] == 4]\n",
    "df_5comp_MW_5 = df_5comp_MW.loc[df_5comp_MW['Category'] == 5]\n",
    "df_5comp_MW_6 = df_5comp_MW.loc[df_5comp_MW['Category'] == 6]\n",
    "df_5comp_MW_7 = df_5comp_MW.loc[df_5comp_MW['Category'] == 7]\n",
    "df_5comp_MW_8 = df_5comp_MW.loc[df_5comp_MW['Category'] == 8]\n",
    "df_5comp_MW_9 = df_5comp_MW.loc[df_5comp_MW['Category'] == 9]\n",
    "df_5comp_MW_10 = df_5comp_MW.loc[df_5comp_MW['Category'] == 10]\n",
    "\n",
    "df_5comp_MW_wo1 = df_5comp_MW.loc[df_5comp_MW['Category'] != 1]\n",
    "\n",
    "print(df_5comp_MW_1.shape[0])\n",
    "print(df_5comp_MW_9.shape[0])\n",
    "print(df_5comp_MW_2.shape[0])\n",
    "print(df_5comp_MW_3.shape[0])\n",
    "print(df_5comp_MW_4.shape[0])\n",
    "print(df_5comp_MW_5.shape[0])\n",
    "print(df_5comp_MW_6.shape[0])\n",
    "print(df_5comp_MW_7.shape[0])\n",
    "print(df_5comp_MW_8.shape[0])\n"
   ]
  },
  {
   "cell_type": "code",
   "execution_count": 3,
   "id": "54613104",
   "metadata": {},
   "outputs": [],
   "source": [
    "df_5comp_MW_1_corpus = df_5comp_MW_corpus.loc[df_5comp_MW_corpus['Category'] == 1]\n",
    "df_5comp_MW_2_corpus = df_5comp_MW_corpus.loc[df_5comp_MW_corpus['Category'] == 2]\n",
    "df_5comp_MW_3_corpus = df_5comp_MW_corpus.loc[df_5comp_MW_corpus['Category'] == 3]\n",
    "df_5comp_MW_4_corpus = df_5comp_MW_corpus.loc[df_5comp_MW_corpus['Category'] == 4]\n",
    "df_5comp_MW_5_corpus = df_5comp_MW_corpus.loc[df_5comp_MW_corpus['Category'] == 5]\n",
    "df_5comp_MW_6_corpus = df_5comp_MW_corpus.loc[df_5comp_MW_corpus['Category'] == 6]\n",
    "df_5comp_MW_7_corpus = df_5comp_MW_corpus.loc[df_5comp_MW_corpus['Category'] == 7]\n",
    "df_5comp_MW_8_corpus = df_5comp_MW_corpus.loc[df_5comp_MW_corpus['Category'] == 8]\n",
    "df_5comp_MW_9_corpus = df_5comp_MW_corpus.loc[df_5comp_MW_corpus['Category'] == 9]\n",
    "df_5comp_MW_10_corpus = df_5comp_MW_corpus.loc[df_5comp_MW_corpus['Category'] == 10]"
   ]
  },
  {
   "cell_type": "code",
   "execution_count": 4,
   "id": "6c63d905",
   "metadata": {},
   "outputs": [],
   "source": [
    "corpus_train_5comp_MW_lsi = {\n",
    "    'Category': [1, 2, 3, 4, 5, 6, 7, 8, 9, 10], #'Stock Price Update', 'Deals/ M&A/ Partnerships', 'Lawsuits', 'Product', 'Analyst Recommendation', 'Employement', 'Facilities', 'Award', 'Financial (earnings etc.)', 'Other'],\n",
    "    'Articles': [df_5comp_MW_1_corpus['Text'].iloc[1]+df_5comp_MW_1_corpus['Text'].iloc[2]+df_5comp_MW_1_corpus['Text'].iloc[3]+df_5comp_MW_1_corpus['Text'].iloc[4]+df_5comp_MW_1_corpus['Text'].iloc[0],\n",
    "                 df_5comp_MW_2_corpus['Text'].iloc[1]+df_5comp_MW_2_corpus['Text'].iloc[2]+df_5comp_MW_2_corpus['Text'].iloc[3]+df_5comp_MW_2_corpus['Text'].iloc[4]+df_5comp_MW_2_corpus['Text'].iloc[0],\n",
    "                 df_5comp_MW_3_corpus['Text'].iloc[1]+df_5comp_MW_3_corpus['Text'].iloc[2]+df_5comp_MW_3_corpus['Text'].iloc[3]+df_5comp_MW_3_corpus['Text'].iloc[4]+df_5comp_MW_3_corpus['Text'].iloc[0], \n",
    "                 df_5comp_MW_4_corpus['Text'].iloc[1]+df_5comp_MW_4_corpus['Text'].iloc[2]+df_5comp_MW_4_corpus['Text'].iloc[3]+df_5comp_MW_4_corpus['Text'].iloc[4]+df_5comp_MW_4_corpus['Text'].iloc[0], \n",
    "                 df_5comp_MW_5_corpus['Text'].iloc[1]+df_5comp_MW_5_corpus['Text'].iloc[2]+df_5comp_MW_5_corpus['Text'].iloc[3]+df_5comp_MW_5_corpus['Text'].iloc[4]+df_5comp_MW_5_corpus['Text'].iloc[0], \n",
    "                 df_5comp_MW_6_corpus['Text'].iloc[1]+df_5comp_MW_6_corpus['Text'].iloc[2]+df_5comp_MW_6_corpus['Text'].iloc[3]+df_5comp_MW_6_corpus['Text'].iloc[4]+df_5comp_MW_6_corpus['Text'].iloc[0], \n",
    "                 df_5comp_MW_7_corpus['Text'].iloc[1]+df_5comp_MW_7_corpus['Text'].iloc[2]+df_5comp_MW_7_corpus['Text'].iloc[3]+df_5comp_MW_7_corpus['Text'].iloc[4]+df_5comp_MW_7_corpus['Text'].iloc[0],\n",
    "                 df_5comp_MW_8_corpus['Text'].iloc[1]+df_5comp_MW_8_corpus['Text'].iloc[2]+df_5comp_MW_8_corpus['Text'].iloc[3]+df_5comp_MW_8_corpus['Text'].iloc[0],\n",
    "                 df_5comp_MW_9_corpus['Text'].iloc[1]+df_5comp_MW_9_corpus['Text'].iloc[2]+df_5comp_MW_9_corpus['Text'].iloc[3]+df_5comp_MW_9_corpus['Text'].iloc[4]+df_5comp_MW_9_corpus['Text'].iloc[0],\n",
    "                 \"\"\n",
    "                ]\n",
    "}\n",
    "\n",
    "corpus_df_5comp_MW_lsi = pd.DataFrame(corpus_train_5comp_MW_lsi, columns= ['Category','Articles'])\n",
    "\n",
    "#print(corpus_df_5comp_MW_lsi)"
   ]
  },
  {
   "cell_type": "code",
   "execution_count": 5,
   "id": "086eb014",
   "metadata": {},
   "outputs": [],
   "source": [
    "text_corpus_5comp_MW_lsi = corpus_df_5comp_MW_lsi['Articles'].values"
   ]
  },
  {
   "cell_type": "code",
   "execution_count": 6,
   "id": "27184f71",
   "metadata": {},
   "outputs": [],
   "source": [
    "processed_corpus_5comp_MW_lsi = preprocess_documents(text_corpus_5comp_MW_lsi)\n",
    "dictionary_5comp_MW_lsi = gensim.corpora.Dictionary(processed_corpus_5comp_MW_lsi)\n",
    "bow_corpus_5comp_MW_lsi = [dictionary_5comp_MW_lsi.doc2bow(text) for text in processed_corpus_5comp_MW_lsi]"
   ]
  },
  {
   "cell_type": "code",
   "execution_count": 7,
   "id": "ff448cae",
   "metadata": {},
   "outputs": [],
   "source": [
    "tfidf_5comp_MW_lsi = gensim.models.TfidfModel(bow_corpus_5comp_MW_lsi, smartirs=\"npu\")\n",
    "corpus_tfidf_5comp_MW_lsi = tfidf_5comp_MW_lsi[bow_corpus_5comp_MW_lsi]"
   ]
  },
  {
   "cell_type": "code",
   "execution_count": 8,
   "id": "9bdc1a24",
   "metadata": {},
   "outputs": [
    {
     "name": "stdout",
     "output_type": "stream",
     "text": [
      "(660, 9)\n"
     ]
    },
    {
     "data": {
      "image/png": "[encoded data removed]",
      "text/plain": [
       "<Figure size 432x288 with 2 Axes>"
      ]
     },
     "metadata": {
      "needs_background": "light"
     },
     "output_type": "display_data"
    }
   ],
   "source": [
    "big_matrix=np.zeros((660,9))\n",
    "print(big_matrix.shape)\n",
    "c=0\n",
    "for tuple_vector in corpus_tfidf_5comp_MW_lsi:\n",
    "    \n",
    "    #print(tuple_vector)\n",
    "    #print(\"HELLOOOOOOOOO\")\n",
    "    for i in tuple_vector:\n",
    "        #print(i[1])\n",
    "        big_matrix[i[0],c]=i[1]\n",
    "        \n",
    "    c=c+1\n",
    "    \n",
    "    \n",
    "#print(big_matrix.shape)\n",
    "#print(big_matrix)\n",
    "\n",
    "df_corr = pd.DataFrame (big_matrix, columns= ['Stock Price Update', 'Deals, M&A, Partnerships', 'Lawsuits', 'Product', 'Analyst Recommendation', 'Employement', 'Facilities', 'Award', 'Financial (earnings etc.)'])\n",
    "df=df_corr[df_corr.columns[[0,8,1,2,3,4,5,6,7]]]\n",
    "#print(df.head())\n",
    "\n",
    "corr_matrix=df.corr().round(2)\n",
    "plt.figure()\n",
    "sns.heatmap(abs(corr_matrix), annot=True, vmax=0.25, vmin=0, cmap='Blues')\n",
    "plt.show()\n"
   ]
  },
  {
   "cell_type": "code",
   "execution_count": 9,
   "id": "66dce07e",
   "metadata": {},
   "outputs": [],
   "source": [
    "lsi_5comp_MW = gensim.models.LsiModel(corpus_tfidf_5comp_MW_lsi, num_topics=9)\n",
    "index_5comp_MW_lsi = gensim.similarities.MatrixSimilarity(lsi_5comp_MW[corpus_tfidf_5comp_MW_lsi])"
   ]
  },
  {
   "cell_type": "code",
   "execution_count": 10,
   "id": "24e7390a",
   "metadata": {},
   "outputs": [
    {
     "name": "stdout",
     "output_type": "stream",
     "text": [
      "3 : 0.99850017\n",
      "4 : 7.450581e-09\n",
      "5 : 4.656613e-09\n",
      "7 : 0.0\n",
      "10 : 0.0\n",
      "1 : -2.3283064e-10\n",
      "8 : -1.8626451e-09\n",
      "2 : -2.7939677e-09\n",
      "6 : -7.450581e-09\n",
      "9 : -1.4901161e-08\n"
     ]
    }
   ],
   "source": [
    "#print(df_5comp_MW_2[\"Text\"].iloc[6])\n",
    "new_doc_5comp_MW_lsi=\"lawsuit against apple for various reasons\"\n",
    "\n",
    "new_doc_5comp_MW_lsi = gensim.parsing.preprocessing.preprocess_string(new_doc_5comp_MW_lsi)\n",
    "new_vec_5comp_MW_lsi = dictionary_5comp_MW_lsi.doc2bow(new_doc_5comp_MW_lsi)\n",
    "vec_bow_tfidf_5comp_MW_lsi = tfidf_5comp_MW_lsi[new_vec_5comp_MW_lsi]\n",
    "vec_5comp_MW_lsi = lsi_5comp_MW[vec_bow_tfidf_5comp_MW_lsi]\n",
    "sims_5comp_MW_lsi = index_5comp_MW_lsi[vec_5comp_MW_lsi]\n",
    "for s in sorted(enumerate(sims_5comp_MW_lsi), key=lambda item: -item[1])[:10]:\n",
    "    print(f\"{corpus_df_5comp_MW_lsi['Category'].iloc[s[0]]} : {str(s[1])}\")"
   ]
  },
  {
   "cell_type": "code",
   "execution_count": 13,
   "id": "30dafda8",
   "metadata": {},
   "outputs": [
    {
     "name": "stdout",
     "output_type": "stream",
     "text": [
      "1875\n",
      "[1408, 68, 54, 66, 61, 27, 27, 13, 195]\n",
      "0.9114666666666666\n"
     ]
    }
   ],
   "source": [
    "#ACCURACY FOR ARTICLES CLASSIFICATION (ALL CATEGORIES)\n",
    "\n",
    "total_articles = df_5comp_MW.shape[0]\n",
    "print(total_articles-44)\n",
    "correct=0\n",
    "categories=[0,0,0,0,0,0,0,0,0]\n",
    "\n",
    "for index, row in df_5comp_MW.iterrows():\n",
    "    new_doc_5comp_MW_lsi = row['Text']\n",
    "    correct_category = row['Category']\n",
    "\n",
    "    new_doc_5comp_MW_lsi = gensim.parsing.preprocessing.preprocess_string(new_doc_5comp_MW_lsi)\n",
    "    new_vec_5comp_MW_lsi = dictionary_5comp_MW_lsi.doc2bow(new_doc_5comp_MW_lsi)\n",
    "    vec_bow_tfidf_5comp_MW_lsi = tfidf_5comp_MW_lsi[new_vec_5comp_MW_lsi]\n",
    "    vec_5comp_MW_lsi = lsi_5comp_MW[vec_bow_tfidf_5comp_MW_lsi]\n",
    "    sims_5comp_MW_lsi = index_5comp_MW_lsi[vec_5comp_MW_lsi]\n",
    "        \n",
    "    for s in sorted(enumerate(sims_5comp_MW_lsi), key=lambda item: -item[1])[:1]:\n",
    "        categories[corpus_df_5comp_MW_lsi['Category'].iloc[s[0]]-1]=categories[corpus_df_5comp_MW_lsi['Category'].iloc[s[0]]-1]+1\n",
    "        if corpus_df_5comp_MW_lsi['Category'].iloc[s[0]] == correct_category:\n",
    "            #print(\"correct\")\n",
    "            correct=correct+1\n",
    "        #else:\n",
    "            #print(f\"Correct category: {correct_category} and found category: {corpus_df_5comp_MW_lsi['Category'].iloc[s[0]]} : {str(s[1])}\")\n",
    "print(categories)  \n",
    "#the size of the corpus set is 44 articles, so for these we assume it will get them correctly with aprox. 100% of probability\n",
    "print((correct-44)/(total_articles-44))\n",
    "acc0=(correct-44)/(total_articles-44)"
   ]
  },
  {
   "cell_type": "code",
   "execution_count": 12,
   "id": "01fd993e",
   "metadata": {},
   "outputs": [
    {
     "name": "stdout",
     "output_type": "stream",
     "text": [
      "450\n",
      "0.7111111111111111\n"
     ]
    }
   ],
   "source": [
    "#ACCURACY FOR ARTICLES CLASSIFICATION (without category 1 (stock price update))\n",
    "\n",
    "total_articles = df_5comp_MW_wo1.shape[0]\n",
    "print(total_articles-39)\n",
    "correct=0\n",
    "categories=[0,0,0,0,0,0,0,0,0]\n",
    "\n",
    "for index, row in df_5comp_MW_wo1.iterrows():\n",
    "    new_doc_5comp_MW_lsi = row['Text']\n",
    "    correct_category = row['Category']\n",
    "\n",
    "    new_doc_5comp_MW_lsi = gensim.parsing.preprocessing.preprocess_string(new_doc_5comp_MW_lsi)\n",
    "    new_vec_5comp_MW_lsi = dictionary_5comp_MW_lsi.doc2bow(new_doc_5comp_MW_lsi)\n",
    "    vec_bow_tfidf_5comp_MW_lsi = tfidf_5comp_MW_lsi[new_vec_5comp_MW_lsi]\n",
    "    vec_5comp_MW_lsi = lsi_5comp_MW[vec_bow_tfidf_5comp_MW_lsi]\n",
    "    sims_5comp_MW_lsi = index_5comp_MW_lsi[vec_5comp_MW_lsi]\n",
    "        \n",
    "    for s in sorted(enumerate(sims_5comp_MW_lsi), key=lambda item: -item[1])[:1]:\n",
    "        categories[corpus_df_5comp_MW_lsi['Category'].iloc[s[0]]-1]=categories[corpus_df_5comp_MW_lsi['Category'].iloc[s[0]]-1]+1\n",
    "        if corpus_df_5comp_MW_lsi['Category'].iloc[s[0]] == correct_category:\n",
    "            #print(\"correct\")\n",
    "            correct=correct+1\n",
    "        #else:\n",
    "            #print(f\"Correct category: {correct_category} and found category: {corpus_df_5comp_MW_lsi['Category'].iloc[s[0]]} : {str(s[1])}\")\n",
    "            \n",
    "print((correct-39)/(total_articles-39))"
   ]
  },
  {
   "cell_type": "code",
   "execution_count": 15,
   "id": "74e322a6",
   "metadata": {},
   "outputs": [
    {
     "name": "stdout",
     "output_type": "stream",
     "text": [
      "1425\n",
      "0.9747368421052631\n",
      "[9.74736842e-01 7.01754386e-04 7.01754386e-04 2.10526316e-03\n",
      " 4.21052632e-03 1.40350877e-03 0.00000000e+00 7.01754386e-04\n",
      " 1.54385965e-02]\n",
      "0.9999999999999998\n"
     ]
    }
   ],
   "source": [
    "#ACCURACY FOR ARTICLES CLASSIFICATION (category 1 (stock price update))\n",
    "\n",
    "total_articles = df_5comp_MW_1.shape[0]\n",
    "print(total_articles-5)\n",
    "correct=0\n",
    "categories=[-5,0,0,0,0,0,0,0,0]\n",
    "\n",
    "for index, row in df_5comp_MW_1.iterrows():\n",
    "    new_doc_5comp_MW_lsi = row['Text']\n",
    "    correct_category = row['Category']\n",
    "\n",
    "    new_doc_5comp_MW_lsi = gensim.parsing.preprocessing.preprocess_string(new_doc_5comp_MW_lsi)\n",
    "    new_vec_5comp_MW_lsi = dictionary_5comp_MW_lsi.doc2bow(new_doc_5comp_MW_lsi)\n",
    "    vec_bow_tfidf_5comp_MW_lsi = tfidf_5comp_MW_lsi[new_vec_5comp_MW_lsi]\n",
    "    vec_5comp_MW_lsi = lsi_5comp_MW[vec_bow_tfidf_5comp_MW_lsi]\n",
    "    sims_5comp_MW_lsi = index_5comp_MW_lsi[vec_5comp_MW_lsi]\n",
    "        \n",
    "    for s in sorted(enumerate(sims_5comp_MW_lsi), key=lambda item: -item[1])[:1]:\n",
    "        categories[corpus_df_5comp_MW_lsi['Category'].iloc[s[0]]-1]=categories[corpus_df_5comp_MW_lsi['Category'].iloc[s[0]]-1]+1\n",
    "        if corpus_df_5comp_MW_lsi['Category'].iloc[s[0]] == correct_category:\n",
    "            #print(\"correct\")\n",
    "            correct=correct+1\n",
    "        #else:\n",
    "            #print(f\"Correct category: {correct_category} and found category: {corpus_df_5comp_MW_lsi['Category'].iloc[s[0]]} : {str(s[1])}\")\n",
    "            \n",
    "print((correct-5)/(total_articles-5))\n",
    "acc1=(correct-5)/(total_articles-5)\n",
    "#print(categories)\n",
    "print(np.divide(categories, total_articles-5))\n",
    "print(sum(np.divide(categories, total_articles-5)))"
   ]
  },
  {
   "cell_type": "code",
   "execution_count": 16,
   "id": "c6199314",
   "metadata": {},
   "outputs": [
    {
     "name": "stdout",
     "output_type": "stream",
     "text": [
      "163\n",
      "0.852760736196319\n",
      "[0.04294479 0.01840491 0.01226994 0.04294479 0.03067485 0.\n",
      " 0.         0.         0.85276074]\n",
      "1.0\n"
     ]
    }
   ],
   "source": [
    "#ACCURACY FOR ARTICLES CLASSIFICATION (category 9: Financial\n",
    "\n",
    "total_articles = df_5comp_MW_9.shape[0]\n",
    "print(total_articles-5)\n",
    "correct=0\n",
    "categories=[0,0,0,0,0,0,0,0,-5]\n",
    "\n",
    "for index, row in df_5comp_MW_9.iterrows():\n",
    "    new_doc_5comp_MW_lsi = row['Text']\n",
    "    correct_category = row['Category']\n",
    "\n",
    "    new_doc_5comp_MW_lsi = gensim.parsing.preprocessing.preprocess_string(new_doc_5comp_MW_lsi)\n",
    "    new_vec_5comp_MW_lsi = dictionary_5comp_MW_lsi.doc2bow(new_doc_5comp_MW_lsi)\n",
    "    vec_bow_tfidf_5comp_MW_lsi = tfidf_5comp_MW_lsi[new_vec_5comp_MW_lsi]\n",
    "    vec_5comp_MW_lsi = lsi_5comp_MW[vec_bow_tfidf_5comp_MW_lsi]\n",
    "    sims_5comp_MW_lsi = index_5comp_MW_lsi[vec_5comp_MW_lsi]\n",
    "        \n",
    "    for s in sorted(enumerate(sims_5comp_MW_lsi), key=lambda item: -item[1])[:1]:\n",
    "        categories[corpus_df_5comp_MW_lsi['Category'].iloc[s[0]]-1]=categories[corpus_df_5comp_MW_lsi['Category'].iloc[s[0]]-1]+1\n",
    "        if corpus_df_5comp_MW_lsi['Category'].iloc[s[0]] == correct_category:\n",
    "            #print(\"correct\")\n",
    "            correct=correct+1\n",
    "        #else:\n",
    "            #print(f\"Correct category: {correct_category} and found category: {corpus_df_5comp_MW_lsi['Category'].iloc[s[0]]} : {str(s[1])}\")\n",
    "            \n",
    "acc2=(correct-5)/(total_articles-5)\n",
    "print((correct-5)/(total_articles-5))\n",
    "print(np.divide(categories, total_articles-5))\n",
    "print(sum(np.divide(categories, total_articles-5)))"
   ]
  },
  {
   "cell_type": "code",
   "execution_count": 17,
   "id": "37dc7e51",
   "metadata": {},
   "outputs": [
    {
     "name": "stdout",
     "output_type": "stream",
     "text": [
      "71\n",
      "0.6619718309859155\n",
      "[0.02816901 0.66197183 0.01408451 0.04225352 0.04225352 0.02816901\n",
      " 0.14084507 0.         0.04225352]\n",
      "0.9999999999999998\n"
     ]
    }
   ],
   "source": [
    "#ACCURACY FOR ARTICLES CLASSIFICATION (category 2 (deals, pattnerships, M&A))\n",
    "\n",
    "total_articles = df_5comp_MW_2.shape[0]\n",
    "print(total_articles-5)\n",
    "correct=0\n",
    "categories=[0,-5,0,0,0,0,0,0,0]\n",
    "\n",
    "for index, row in df_5comp_MW_2.iterrows():\n",
    "    new_doc_5comp_MW_lsi = row['Text']\n",
    "    correct_category = row['Category']\n",
    "\n",
    "    new_doc_5comp_MW_lsi = gensim.parsing.preprocessing.preprocess_string(new_doc_5comp_MW_lsi)\n",
    "    new_vec_5comp_MW_lsi = dictionary_5comp_MW_lsi.doc2bow(new_doc_5comp_MW_lsi)\n",
    "    vec_bow_tfidf_5comp_MW_lsi = tfidf_5comp_MW_lsi[new_vec_5comp_MW_lsi]\n",
    "    vec_5comp_MW_lsi = lsi_5comp_MW[vec_bow_tfidf_5comp_MW_lsi]\n",
    "    sims_5comp_MW_lsi = index_5comp_MW_lsi[vec_5comp_MW_lsi]\n",
    "        \n",
    "    for s in sorted(enumerate(sims_5comp_MW_lsi), key=lambda item: -item[1])[:1]:\n",
    "        categories[corpus_df_5comp_MW_lsi['Category'].iloc[s[0]]-1]=categories[corpus_df_5comp_MW_lsi['Category'].iloc[s[0]]-1]+1\n",
    "        if corpus_df_5comp_MW_lsi['Category'].iloc[s[0]] == correct_category:\n",
    "            #print(\"correct\")\n",
    "            correct=correct+1\n",
    "        #else:\n",
    "            #print(f\"Correct category: {correct_category} and found category: {corpus_df_5comp_MW_lsi['Category'].iloc[s[0]]} : {str(s[1])}\")\n",
    "\n",
    "acc3=(correct-5)/(total_articles-5)\n",
    "print((correct-5)/(total_articles-5))\n",
    "print(np.divide(categories, total_articles-5))\n",
    "print(sum(np.divide(categories, total_articles-5)))"
   ]
  },
  {
   "cell_type": "code",
   "execution_count": 18,
   "id": "dff94f1c",
   "metadata": {},
   "outputs": [
    {
     "name": "stdout",
     "output_type": "stream",
     "text": [
      "67\n",
      "0.6268656716417911\n",
      "[0.01492537 0.04477612 0.62686567 0.08955224 0.05970149 0.05970149\n",
      " 0.04477612 0.         0.05970149]\n",
      "0.9999999999999999\n"
     ]
    }
   ],
   "source": [
    "#ACCURACY FOR ARTICLES CLASSIFICATION (category 3 \n",
    "\n",
    "total_articles = df_5comp_MW_3.shape[0]\n",
    "print(total_articles-5)\n",
    "correct=0\n",
    "categories=[0,0,-5,0,0,0,0,0,0]\n",
    "\n",
    "for index, row in df_5comp_MW_3.iterrows():\n",
    "    new_doc_5comp_MW_lsi = row['Text']\n",
    "    correct_category = row['Category']\n",
    "\n",
    "    new_doc_5comp_MW_lsi = gensim.parsing.preprocessing.preprocess_string(new_doc_5comp_MW_lsi)\n",
    "    new_vec_5comp_MW_lsi = dictionary_5comp_MW_lsi.doc2bow(new_doc_5comp_MW_lsi)\n",
    "    vec_bow_tfidf_5comp_MW_lsi = tfidf_5comp_MW_lsi[new_vec_5comp_MW_lsi]\n",
    "    vec_5comp_MW_lsi = lsi_5comp_MW[vec_bow_tfidf_5comp_MW_lsi]\n",
    "    sims_5comp_MW_lsi = index_5comp_MW_lsi[vec_5comp_MW_lsi]\n",
    "        \n",
    "    for s in sorted(enumerate(sims_5comp_MW_lsi), key=lambda item: -item[1])[:1]:\n",
    "        categories[corpus_df_5comp_MW_lsi['Category'].iloc[s[0]]-1]=categories[corpus_df_5comp_MW_lsi['Category'].iloc[s[0]]-1]+1\n",
    "        if corpus_df_5comp_MW_lsi['Category'].iloc[s[0]] == correct_category:\n",
    "            #print(\"correct\")\n",
    "            correct=correct+1\n",
    "        #else:\n",
    "            #print(f\"Correct category: {correct_category} and found category: {corpus_df_5comp_MW_lsi['Category'].iloc[s[0]]} : {str(s[1])}\")\n",
    "            \n",
    "print((correct-5)/(total_articles-5))\n",
    "acc4=(correct-5)/(total_articles-5)\n",
    "print(np.divide(categories, total_articles-5))\n",
    "print(sum(np.divide(categories, total_articles-5)))"
   ]
  },
  {
   "cell_type": "code",
   "execution_count": 19,
   "id": "2447e357",
   "metadata": {},
   "outputs": [
    {
     "name": "stdout",
     "output_type": "stream",
     "text": [
      "56\n",
      "0.6428571428571429\n",
      "[0.03571429 0.08928571 0.03571429 0.64285714 0.05357143 0.01785714\n",
      " 0.01785714 0.         0.10714286]\n",
      "1.0000000000000002\n"
     ]
    }
   ],
   "source": [
    "#ACCURACY FOR ARTICLES CLASSIFICATION (category 4\n",
    "\n",
    "total_articles = df_5comp_MW_4.shape[0]\n",
    "print(total_articles-5)\n",
    "correct=0\n",
    "categories=[0,0,0,-5,0,0,0,0,0]\n",
    "\n",
    "for index, row in df_5comp_MW_4.iterrows():\n",
    "    new_doc_5comp_MW_lsi = row['Text']\n",
    "    correct_category = row['Category']\n",
    "\n",
    "    new_doc_5comp_MW_lsi = gensim.parsing.preprocessing.preprocess_string(new_doc_5comp_MW_lsi)\n",
    "    new_vec_5comp_MW_lsi = dictionary_5comp_MW_lsi.doc2bow(new_doc_5comp_MW_lsi)\n",
    "    vec_bow_tfidf_5comp_MW_lsi = tfidf_5comp_MW_lsi[new_vec_5comp_MW_lsi]\n",
    "    vec_5comp_MW_lsi = lsi_5comp_MW[vec_bow_tfidf_5comp_MW_lsi]\n",
    "    sims_5comp_MW_lsi = index_5comp_MW_lsi[vec_5comp_MW_lsi]\n",
    "        \n",
    "    for s in sorted(enumerate(sims_5comp_MW_lsi), key=lambda item: -item[1])[:1]:\n",
    "        categories[corpus_df_5comp_MW_lsi['Category'].iloc[s[0]]-1]=categories[corpus_df_5comp_MW_lsi['Category'].iloc[s[0]]-1]+1\n",
    "        if corpus_df_5comp_MW_lsi['Category'].iloc[s[0]] == correct_category:\n",
    "            #print(\"correct\")\n",
    "            correct=correct+1\n",
    "        #else:\n",
    "            #print(f\"Correct category: {correct_category} and found category: {corpus_df_5comp_MW_lsi['Category'].iloc[s[0]]} : {str(s[1])}\")\n",
    "            \n",
    "print((correct-5)/(total_articles-5))\n",
    "acc5=(correct-5)/(total_articles-5)\n",
    "print(np.divide(categories, total_articles-5))\n",
    "print(sum(np.divide(categories, total_articles-5)))"
   ]
  },
  {
   "cell_type": "code",
   "execution_count": 20,
   "id": "9713a50f",
   "metadata": {},
   "outputs": [
    {
     "name": "stdout",
     "output_type": "stream",
     "text": [
      "59\n",
      "0.5932203389830508\n",
      "[0.03389831 0.03389831 0.01694915 0.06779661 0.59322034 0.03389831\n",
      " 0.03389831 0.         0.18644068]\n",
      "1.0\n"
     ]
    }
   ],
   "source": [
    "#ACCURACY FOR ARTICLES CLASSIFICATION (category 5\n",
    "\n",
    "total_articles = df_5comp_MW_5.shape[0]\n",
    "print(total_articles-5)\n",
    "correct=0\n",
    "categories=[0,0,0,0,-5,0,0,0,0]\n",
    "\n",
    "for index, row in df_5comp_MW_5.iterrows():\n",
    "    new_doc_5comp_MW_lsi = row['Text']\n",
    "    correct_category = row['Category']\n",
    "\n",
    "    new_doc_5comp_MW_lsi = gensim.parsing.preprocessing.preprocess_string(new_doc_5comp_MW_lsi)\n",
    "    new_vec_5comp_MW_lsi = dictionary_5comp_MW_lsi.doc2bow(new_doc_5comp_MW_lsi)\n",
    "    vec_bow_tfidf_5comp_MW_lsi = tfidf_5comp_MW_lsi[new_vec_5comp_MW_lsi]\n",
    "    vec_5comp_MW_lsi = lsi_5comp_MW[vec_bow_tfidf_5comp_MW_lsi]\n",
    "    sims_5comp_MW_lsi = index_5comp_MW_lsi[vec_5comp_MW_lsi]\n",
    "        \n",
    "    for s in sorted(enumerate(sims_5comp_MW_lsi), key=lambda item: -item[1])[:1]:\n",
    "        categories[corpus_df_5comp_MW_lsi['Category'].iloc[s[0]]-1]=categories[corpus_df_5comp_MW_lsi['Category'].iloc[s[0]]-1]+1\n",
    "        if corpus_df_5comp_MW_lsi['Category'].iloc[s[0]] == correct_category:\n",
    "            #print(\"correct\")\n",
    "            correct=correct+1\n",
    "        #else:\n",
    "            #print(f\"Correct category: {correct_category} and found category: {corpus_df_5comp_MW_lsi['Category'].iloc[s[0]]} : {str(s[1])}\")\n",
    "            \n",
    "print((correct-5)/(total_articles-5))\n",
    "acc6=(correct-5)/(total_articles-5)\n",
    "print(np.divide(categories, total_articles-5))\n",
    "print(sum(np.divide(categories, total_articles-5)))"
   ]
  },
  {
   "cell_type": "code",
   "execution_count": 21,
   "id": "e92e9121",
   "metadata": {},
   "outputs": [
    {
     "name": "stdout",
     "output_type": "stream",
     "text": [
      "21\n",
      "0.5238095238095238\n",
      "[0.         0.04761905 0.         0.04761905 0.         0.52380952\n",
      " 0.04761905 0.0952381  0.23809524]\n"
     ]
    }
   ],
   "source": [
    "#ACCURACY FOR ARTICLES CLASSIFICATION (category 6\n",
    "\n",
    "total_articles = df_5comp_MW_6.shape[0]\n",
    "print(total_articles-5)\n",
    "correct=0\n",
    "categories=[0,0,0,0,0,-5,0,0,0]\n",
    "\n",
    "for index, row in df_5comp_MW_6.iterrows():\n",
    "    new_doc_5comp_MW_lsi = row['Text']\n",
    "    correct_category = row['Category']\n",
    "\n",
    "    new_doc_5comp_MW_lsi = gensim.parsing.preprocessing.preprocess_string(new_doc_5comp_MW_lsi)\n",
    "    new_vec_5comp_MW_lsi = dictionary_5comp_MW_lsi.doc2bow(new_doc_5comp_MW_lsi)\n",
    "    vec_bow_tfidf_5comp_MW_lsi = tfidf_5comp_MW_lsi[new_vec_5comp_MW_lsi]\n",
    "    vec_5comp_MW_lsi = lsi_5comp_MW[vec_bow_tfidf_5comp_MW_lsi]\n",
    "    sims_5comp_MW_lsi = index_5comp_MW_lsi[vec_5comp_MW_lsi]\n",
    "        \n",
    "    for s in sorted(enumerate(sims_5comp_MW_lsi), key=lambda item: -item[1])[:1]:\n",
    "        categories[corpus_df_5comp_MW_lsi['Category'].iloc[s[0]]-1]=categories[corpus_df_5comp_MW_lsi['Category'].iloc[s[0]]-1]+1\n",
    "        if corpus_df_5comp_MW_lsi['Category'].iloc[s[0]] == correct_category:\n",
    "            #print(\"correct\")\n",
    "            correct=correct+1\n",
    "        #else:\n",
    "            #print(f\"Correct category: {correct_category} and found category: {corpus_df_5comp_MW_lsi['Category'].iloc[s[0]]} : {str(s[1])}\")\n",
    "            \n",
    "print((correct-5)/(total_articles-5))\n",
    "acc7=(correct-5)/(total_articles-5)\n",
    "print(np.divide(categories, total_articles-5))"
   ]
  },
  {
   "cell_type": "code",
   "execution_count": 22,
   "id": "85d98222",
   "metadata": {},
   "outputs": [
    {
     "name": "stdout",
     "output_type": "stream",
     "text": [
      "7\n",
      "0.7142857142857143\n",
      "[0.         0.14285714 0.         0.         0.         0.\n",
      " 0.71428571 0.14285714 0.        ]\n"
     ]
    }
   ],
   "source": [
    "#ACCURACY FOR ARTICLES CLASSIFICATION (category 7 \n",
    "\n",
    "total_articles = df_5comp_MW_7.shape[0]\n",
    "print(total_articles-5)\n",
    "correct=0\n",
    "categories=[0,0,0,0,0,0,-5,0,0]\n",
    "\n",
    "for index, row in df_5comp_MW_7.iterrows():\n",
    "    new_doc_5comp_MW_lsi = row['Text']\n",
    "    correct_category = row['Category']\n",
    "\n",
    "    new_doc_5comp_MW_lsi = gensim.parsing.preprocessing.preprocess_string(new_doc_5comp_MW_lsi)\n",
    "    new_vec_5comp_MW_lsi = dictionary_5comp_MW_lsi.doc2bow(new_doc_5comp_MW_lsi)\n",
    "    vec_bow_tfidf_5comp_MW_lsi = tfidf_5comp_MW_lsi[new_vec_5comp_MW_lsi]\n",
    "    vec_5comp_MW_lsi = lsi_5comp_MW[vec_bow_tfidf_5comp_MW_lsi]\n",
    "    sims_5comp_MW_lsi = index_5comp_MW_lsi[vec_5comp_MW_lsi]\n",
    "        \n",
    "    for s in sorted(enumerate(sims_5comp_MW_lsi), key=lambda item: -item[1])[:1]:\n",
    "        categories[corpus_df_5comp_MW_lsi['Category'].iloc[s[0]]-1]=categories[corpus_df_5comp_MW_lsi['Category'].iloc[s[0]]-1]+1\n",
    "        if corpus_df_5comp_MW_lsi['Category'].iloc[s[0]] == correct_category:\n",
    "            #print(\"correct\")\n",
    "            correct=correct+1\n",
    "        #else:\n",
    "            #print(f\"Correct category: {correct_category} and found category: {corpus_df_5comp_MW_lsi['Category'].iloc[s[0]]} : {str(s[1])}\")\n",
    "            \n",
    "print((correct-5)/(total_articles-5))\n",
    "acc8=(correct-5)/(total_articles-5)\n",
    "print(np.divide(categories, total_articles-5))"
   ]
  },
  {
   "cell_type": "code",
   "execution_count": 23,
   "id": "49bcc904",
   "metadata": {},
   "outputs": [
    {
     "name": "stdout",
     "output_type": "stream",
     "text": [
      "6\n",
      "0.8333333333333334\n",
      "[0.         0.         0.         0.16666667 0.         0.\n",
      " 0.         0.83333333 0.        ]\n"
     ]
    }
   ],
   "source": [
    "#ACCURACY FOR ARTICLES CLASSIFICATION (category 8\n",
    "\n",
    "total_articles = df_5comp_MW_8.shape[0]\n",
    "print(total_articles-4)\n",
    "correct=0\n",
    "categories=[0,0,0,0,0,0,0,-4,0]\n",
    "\n",
    "for index, row in df_5comp_MW_8.iterrows():\n",
    "    new_doc_5comp_MW_lsi = row['Text']\n",
    "    correct_category = row['Category']\n",
    "\n",
    "    new_doc_5comp_MW_lsi = gensim.parsing.preprocessing.preprocess_string(new_doc_5comp_MW_lsi)\n",
    "    new_vec_5comp_MW_lsi = dictionary_5comp_MW_lsi.doc2bow(new_doc_5comp_MW_lsi)\n",
    "    vec_bow_tfidf_5comp_MW_lsi = tfidf_5comp_MW_lsi[new_vec_5comp_MW_lsi]\n",
    "    vec_5comp_MW_lsi = lsi_5comp_MW[vec_bow_tfidf_5comp_MW_lsi]\n",
    "    sims_5comp_MW_lsi = index_5comp_MW_lsi[vec_5comp_MW_lsi]\n",
    "        \n",
    "    for s in sorted(enumerate(sims_5comp_MW_lsi), key=lambda item: -item[1])[:1]:\n",
    "        categories[corpus_df_5comp_MW_lsi['Category'].iloc[s[0]]-1]=categories[corpus_df_5comp_MW_lsi['Category'].iloc[s[0]]-1]+1\n",
    "        if corpus_df_5comp_MW_lsi['Category'].iloc[s[0]] == correct_category:\n",
    "            #print(\"correct\")\n",
    "            correct=correct+1\n",
    "        #else:\n",
    "            #print(f\"Correct category: {correct_category} and found category: {corpus_df_5comp_MW_lsi['Category'].iloc[s[0]]} : {str(s[1])}\")\n",
    "            \n",
    "print((correct-4)/(total_articles-4))\n",
    "acc9=(correct-4)/(total_articles-4)\n",
    "print(np.divide(categories, total_articles-4))"
   ]
  },
  {
   "cell_type": "code",
   "execution_count": 24,
   "id": "6db004bd",
   "metadata": {},
   "outputs": [
    {
     "name": "stdout",
     "output_type": "stream",
     "text": [
      "Average acc:  0.713760126022006\n",
      "weighted acc:  0.9114666666666666\n",
      "Acc 1:  0.9747368421052631\n",
      "Acc 2:  0.852760736196319\n",
      "Acc 3:  0.6619718309859155\n",
      "Acc 4:  0.6268656716417911\n",
      "Acc 5:  0.6428571428571429\n",
      "Acc 6:  0.5932203389830508\n",
      "Acc 7:  0.5238095238095238\n",
      "Acc 8:  0.7142857142857143\n",
      "Acc 9:  0.8333333333333334\n"
     ]
    }
   ],
   "source": [
    "average_acc=(acc1+acc2+acc3+acc4+acc5+acc6+acc7+acc8+acc9)/9\n",
    "weighted_acc=acc0\n",
    "print('Average acc: ', average_acc)\n",
    "print('weighted acc: ', weighted_acc)\n",
    "print('Acc 1: ', acc1)\n",
    "print('Acc 2: ', acc2)\n",
    "print('Acc 3: ', acc3)\n",
    "print('Acc 4: ', acc4)\n",
    "print('Acc 5: ', acc5)\n",
    "print('Acc 6: ', acc6)\n",
    "print('Acc 7: ', acc7)\n",
    "print('Acc 8: ', acc8)\n",
    "print('Acc 9: ', acc9)"
   ]
  },
  {
   "cell_type": "code",
   "execution_count": 25,
   "id": "78d1a9f1",
   "metadata": {},
   "outputs": [
    {
     "data": {
      "image/png": "[encoded data removed]",
      "text/plain": [
       "<Figure size 432x288 with 2 Axes>"
      ]
     },
     "metadata": {
      "needs_background": "light"
     },
     "output_type": "display_data"
    }
   ],
   "source": [
    "data = {'Stock Price Update': [9.74736842e-01,  1.54385965e-02, 7.01754386e-04, 7.01754386e-04, 2.10526316e-03, 4.21052632e-03, 1.40350877e-03, 0.00000000e+00, 7.01754386e-04],\n",
    "        'Financial': [0.04294479,0.852760736196319, 0.01840491, 0.01226994, 0.04294479, 0.03067485, 0.,0.         ,0.    ],\n",
    "        'Deals': [0.02816901 ,0.04225352, 0.66197183, 0.01408451, 0.04225352, 0.04225352, 0.02816901,0.14084507, 0.        ],\n",
    "        'Legal': [0.01492537 ,      0.05970149, 0.04477612, 0.62686567, 0.08955224, 0.05970149, 0.05970149, 0.04477612, 0.   ],\n",
    "        'Product': [0.03571429,  0.10714286, 0.08928571, 0.03571429, 0.64285714, 0.05357143, 0.01785714, 0.01785714, 0.   ],\n",
    "        'Analyst Recommendation': [0.03389831,       0.18644068, 0.03389831, 0.01694915, 0.06779661, 0.59322034, 0.03389831, 0.03389831, 0.],\n",
    "        'Employment': [0.     , 0.23809524,     0.04761905 , 0.   ,      0.04761905, 0.    ,     0.52380952, 0.04761905, 0.0952381],\n",
    "        'Facilities': [0.   , 0.       ,       0.14285714, 0.   ,      0.    ,     0.     ,    0., 0.71428571 , 0.14285714  ],\n",
    "        'Award': [0.    , 0.        ,      0.      ,   0.    ,     0.16666667 , 0.      ,   0., 0.      ,   0.83333333]}\n",
    "\n",
    "\n",
    "index=['Stock Price Update', 'Financial', 'Deals', 'Legal', 'Product', 'Analyst Recommendation', 'Employment', 'Facilities', 'Award']\n",
    "df = pd.DataFrame(data, index=index)\n",
    "#df['Sum']=df.sum()\n",
    "#df.set_index(index, inplace=True)\n",
    "#print(df)\n",
    "plt.figure()\n",
    "sns.heatmap(df.round(2), annot=True, vmax=0.7, cmap='Greens')\n",
    "plt.show()"
   ]
  },
  {
   "cell_type": "code",
   "execution_count": null,
   "id": "387a8831",
   "metadata": {},
   "outputs": [],
   "source": []
  }
 ],
 "metadata": {
  "kernelspec": {
   "display_name": "Python 3",
   "language": "python",
   "name": "python3"
  },
  "language_info": {
   "codemirror_mode": {
    "name": "ipython",
    "version": 3
   },
   "file_extension": ".py",
   "mimetype": "text/x-python",
   "name": "python",
   "nbconvert_exporter": "python",
   "pygments_lexer": "ipython3",
   "version": "3.8.8"
  }
 },
 "nbformat": 4,
 "nbformat_minor": 5
}
